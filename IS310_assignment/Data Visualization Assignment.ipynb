{
    "cells": [
        {
            "cell_type": "code",
            "execution_count": 1,
            "source": [
                "import pandas as pd\n",
                "import numpy as np\n",
                "import seaborn as sns; sns.set()\n",
                "import matplotlib.pyplot as plt\n",
                "import nltk\n",
                "nltk.download('punkt')\n",
                "from nltk import word_tokenize\n",
                "from nltk import FreqDist\n",
                "from nltk.stem import PorterStemmer\n",
                "nltk.download('stopwords')\n",
                "from nltk.corpus import stopwords\n",
                "stop_words = set(stopwords.words('english'))\n",
                "porter = PorterStemmer()\n",
                "from sklearn.feature_extraction.text import TfidfVectorizer\n",
                "import altair as alt\n",
                "from vega_datasets import data"
            ],
            "outputs": [
                {
                    "output_type": "stream",
                    "name": "stderr",
                    "text": [
                        "[nltk_data] Downloading package punkt to\n",
                        "[nltk_data]     /Users/junggchangho/nltk_data...\n",
                        "[nltk_data]   Package punkt is already up-to-date!\n",
                        "[nltk_data] Downloading package stopwords to\n",
                        "[nltk_data]     /Users/junggchangho/nltk_data...\n",
                        "[nltk_data]   Package stopwords is already up-to-date!\n"
                    ]
                }
            ],
            "metadata": {}
        },
        {
            "cell_type": "code",
            "execution_count": 2,
            "source": [
                "alt.renderers.enable('mimetype')"
            ],
            "outputs": [
                {
                    "output_type": "execute_result",
                    "data": {
                        "text/plain": [
                            "RendererRegistry.enable('mimetype')"
                        ]
                    },
                    "metadata": {},
                    "execution_count": 2
                }
            ],
            "metadata": {}
        },
        {
            "cell_type": "code",
            "execution_count": 3,
            "source": [
                "humanist_vols = pd.read_csv(\"web_scraped_humanist_listserv.csv\")\n",
                "humanist_vols.head()"
            ],
            "outputs": [
                {
                    "output_type": "execute_result",
                    "data": {
                        "text/plain": [
                            "       dates                                               text\n",
                            "0  1987-1988  From: MCCARTY@UTOREPAS\\nSubject: \\nDate: 12 Ma...\n",
                            "1  1988-1989  From: Sebastian Rahtz \\nSubject: C++ and Gnu o...\n",
                            "2  1989-1990  From: Willard McCarty \\nSubject: Happy Birthda...\n",
                            "3  1990-1991  From: Elaine Brennan & Allen Renear \\nSubject:...\n",
                            "4  1991-1992  From: Elaine Brennan & Allen Renear \\nSubject:..."
                        ],
                        "text/html": [
                            "<div>\n",
                            "<style scoped>\n",
                            "    .dataframe tbody tr th:only-of-type {\n",
                            "        vertical-align: middle;\n",
                            "    }\n",
                            "\n",
                            "    .dataframe tbody tr th {\n",
                            "        vertical-align: top;\n",
                            "    }\n",
                            "\n",
                            "    .dataframe thead th {\n",
                            "        text-align: right;\n",
                            "    }\n",
                            "</style>\n",
                            "<table border=\"1\" class=\"dataframe\">\n",
                            "  <thead>\n",
                            "    <tr style=\"text-align: right;\">\n",
                            "      <th></th>\n",
                            "      <th>dates</th>\n",
                            "      <th>text</th>\n",
                            "    </tr>\n",
                            "  </thead>\n",
                            "  <tbody>\n",
                            "    <tr>\n",
                            "      <th>0</th>\n",
                            "      <td>1987-1988</td>\n",
                            "      <td>From: MCCARTY@UTOREPAS\\nSubject: \\nDate: 12 Ma...</td>\n",
                            "    </tr>\n",
                            "    <tr>\n",
                            "      <th>1</th>\n",
                            "      <td>1988-1989</td>\n",
                            "      <td>From: Sebastian Rahtz \\nSubject: C++ and Gnu o...</td>\n",
                            "    </tr>\n",
                            "    <tr>\n",
                            "      <th>2</th>\n",
                            "      <td>1989-1990</td>\n",
                            "      <td>From: Willard McCarty \\nSubject: Happy Birthda...</td>\n",
                            "    </tr>\n",
                            "    <tr>\n",
                            "      <th>3</th>\n",
                            "      <td>1990-1991</td>\n",
                            "      <td>From: Elaine Brennan &amp; Allen Renear \\nSubject:...</td>\n",
                            "    </tr>\n",
                            "    <tr>\n",
                            "      <th>4</th>\n",
                            "      <td>1991-1992</td>\n",
                            "      <td>From: Elaine Brennan &amp; Allen Renear \\nSubject:...</td>\n",
                            "    </tr>\n",
                            "  </tbody>\n",
                            "</table>\n",
                            "</div>"
                        ]
                    },
                    "metadata": {},
                    "execution_count": 3
                }
            ],
            "metadata": {}
        },
        {
            "cell_type": "code",
            "execution_count": 4,
            "source": [
                "humanist_vols['year_start'] = humanist_vols['dates'].str.split('-').str[0]\n",
                "humanist_vols['year_end'] = humanist_vols['dates'].str.split('-').str[1]\n",
                "humanist_vols['volume_size'] = humanist_vols['text'].str.count('\\n')\n",
                "humanist_vols = humanist_vols.iloc[:21,:]\n",
                "humanist_vols"
            ],
            "outputs": [
                {
                    "output_type": "execute_result",
                    "data": {
                        "text/plain": [
                            "        dates                                               text year_start  \\\n",
                            "0   1987-1988  From: MCCARTY@UTOREPAS\\nSubject: \\nDate: 12 Ma...       1987   \n",
                            "1   1988-1989  From: Sebastian Rahtz \\nSubject: C++ and Gnu o...       1988   \n",
                            "2   1989-1990  From: Willard McCarty \\nSubject: Happy Birthda...       1989   \n",
                            "3   1990-1991  From: Elaine Brennan & Allen Renear \\nSubject:...       1990   \n",
                            "4   1991-1992  From: Elaine Brennan & Allen Renear \\nSubject:...       1991   \n",
                            "5   1992-1993  From: Elaine M Brennan \\nSubject: Humanist's B...       1992   \n",
                            "6   1993-1994  From: 6500card%ucsbuxa@hub.ucsb.edu (Cheryl A....       1993   \n",
                            "7   1994-1995  From: Andrew Burday \\nSubject: Re: 7.0638 Qs: ...       1994   \n",
                            "8   1995-1996  From: \"Gregory Bloomquist\" \\nSubject: Round Ta...       1995   \n",
                            "9   1996-1997  From: Humanist \\nSubject: Humanist begins its ...       1996   \n",
                            "10  1997-1998  From: Willard McCarty \\nSubject: mind no mind\\...       1997   \n",
                            "11  1998-1999  From: Willard McCarty \\nSubject: one more than...       1998   \n",
                            "12  1999-2000  From: Willard McCarty \\nSubject: HAPPY now we ...       1999   \n",
                            "13  2000-2001  From: Willard McCarty \\nSubject: HAPPY now we ...       2000   \n",
                            "14  2001-2002  From: Willard McCarty \\nSubject: 14\\nDate: Mon...       2001   \n",
                            "15  2002-2003  From: NINCH-ANNOUNCE \\nSubject: New Project: \"...       2002   \n",
                            "16  2003-2004  From: Willard McCarty \\nSubject: Happy Sweet 1...       2003   \n",
                            "17  2004-2005  From: Willard McCarty \\nSubject: happy 17th bi...       2004   \n",
                            "18  2005-2006  From: Willard McCarty \\nSubject: Happy 18th bi...       2005   \n",
                            "19  2006-2007  From: Willard McCarty \\nSubject: Happy 19th bi...       2006   \n",
                            "20  2007-2008  From: Willard McCarty \\nSubject: Humanist's 20...       2007   \n",
                            "\n",
                            "   year_end  volume_size  \n",
                            "0      1988        50794  \n",
                            "1      1989        36109  \n",
                            "2      1990       108695  \n",
                            "3      1991       118929  \n",
                            "4      1992        81193  \n",
                            "5      1993        59957  \n",
                            "6      1994        71763  \n",
                            "7      1995        46569  \n",
                            "8      1996        61076  \n",
                            "9      1997        52506  \n",
                            "10     1998        89100  \n",
                            "11     1999        70304  \n",
                            "12     2000        72641  \n",
                            "13     2001        89197  \n",
                            "14     2002        85729  \n",
                            "15     2003        80589  \n",
                            "16     2004        95265  \n",
                            "17     2005        55776  \n",
                            "18     2006        53619  \n",
                            "19     2007        44493  \n",
                            "20     2008        38994  "
                        ],
                        "text/html": [
                            "<div>\n",
                            "<style scoped>\n",
                            "    .dataframe tbody tr th:only-of-type {\n",
                            "        vertical-align: middle;\n",
                            "    }\n",
                            "\n",
                            "    .dataframe tbody tr th {\n",
                            "        vertical-align: top;\n",
                            "    }\n",
                            "\n",
                            "    .dataframe thead th {\n",
                            "        text-align: right;\n",
                            "    }\n",
                            "</style>\n",
                            "<table border=\"1\" class=\"dataframe\">\n",
                            "  <thead>\n",
                            "    <tr style=\"text-align: right;\">\n",
                            "      <th></th>\n",
                            "      <th>dates</th>\n",
                            "      <th>text</th>\n",
                            "      <th>year_start</th>\n",
                            "      <th>year_end</th>\n",
                            "      <th>volume_size</th>\n",
                            "    </tr>\n",
                            "  </thead>\n",
                            "  <tbody>\n",
                            "    <tr>\n",
                            "      <th>0</th>\n",
                            "      <td>1987-1988</td>\n",
                            "      <td>From: MCCARTY@UTOREPAS\\nSubject: \\nDate: 12 Ma...</td>\n",
                            "      <td>1987</td>\n",
                            "      <td>1988</td>\n",
                            "      <td>50794</td>\n",
                            "    </tr>\n",
                            "    <tr>\n",
                            "      <th>1</th>\n",
                            "      <td>1988-1989</td>\n",
                            "      <td>From: Sebastian Rahtz \\nSubject: C++ and Gnu o...</td>\n",
                            "      <td>1988</td>\n",
                            "      <td>1989</td>\n",
                            "      <td>36109</td>\n",
                            "    </tr>\n",
                            "    <tr>\n",
                            "      <th>2</th>\n",
                            "      <td>1989-1990</td>\n",
                            "      <td>From: Willard McCarty \\nSubject: Happy Birthda...</td>\n",
                            "      <td>1989</td>\n",
                            "      <td>1990</td>\n",
                            "      <td>108695</td>\n",
                            "    </tr>\n",
                            "    <tr>\n",
                            "      <th>3</th>\n",
                            "      <td>1990-1991</td>\n",
                            "      <td>From: Elaine Brennan &amp; Allen Renear \\nSubject:...</td>\n",
                            "      <td>1990</td>\n",
                            "      <td>1991</td>\n",
                            "      <td>118929</td>\n",
                            "    </tr>\n",
                            "    <tr>\n",
                            "      <th>4</th>\n",
                            "      <td>1991-1992</td>\n",
                            "      <td>From: Elaine Brennan &amp; Allen Renear \\nSubject:...</td>\n",
                            "      <td>1991</td>\n",
                            "      <td>1992</td>\n",
                            "      <td>81193</td>\n",
                            "    </tr>\n",
                            "    <tr>\n",
                            "      <th>5</th>\n",
                            "      <td>1992-1993</td>\n",
                            "      <td>From: Elaine M Brennan \\nSubject: Humanist's B...</td>\n",
                            "      <td>1992</td>\n",
                            "      <td>1993</td>\n",
                            "      <td>59957</td>\n",
                            "    </tr>\n",
                            "    <tr>\n",
                            "      <th>6</th>\n",
                            "      <td>1993-1994</td>\n",
                            "      <td>From: 6500card%ucsbuxa@hub.ucsb.edu (Cheryl A....</td>\n",
                            "      <td>1993</td>\n",
                            "      <td>1994</td>\n",
                            "      <td>71763</td>\n",
                            "    </tr>\n",
                            "    <tr>\n",
                            "      <th>7</th>\n",
                            "      <td>1994-1995</td>\n",
                            "      <td>From: Andrew Burday \\nSubject: Re: 7.0638 Qs: ...</td>\n",
                            "      <td>1994</td>\n",
                            "      <td>1995</td>\n",
                            "      <td>46569</td>\n",
                            "    </tr>\n",
                            "    <tr>\n",
                            "      <th>8</th>\n",
                            "      <td>1995-1996</td>\n",
                            "      <td>From: \"Gregory Bloomquist\" \\nSubject: Round Ta...</td>\n",
                            "      <td>1995</td>\n",
                            "      <td>1996</td>\n",
                            "      <td>61076</td>\n",
                            "    </tr>\n",
                            "    <tr>\n",
                            "      <th>9</th>\n",
                            "      <td>1996-1997</td>\n",
                            "      <td>From: Humanist \\nSubject: Humanist begins its ...</td>\n",
                            "      <td>1996</td>\n",
                            "      <td>1997</td>\n",
                            "      <td>52506</td>\n",
                            "    </tr>\n",
                            "    <tr>\n",
                            "      <th>10</th>\n",
                            "      <td>1997-1998</td>\n",
                            "      <td>From: Willard McCarty \\nSubject: mind no mind\\...</td>\n",
                            "      <td>1997</td>\n",
                            "      <td>1998</td>\n",
                            "      <td>89100</td>\n",
                            "    </tr>\n",
                            "    <tr>\n",
                            "      <th>11</th>\n",
                            "      <td>1998-1999</td>\n",
                            "      <td>From: Willard McCarty \\nSubject: one more than...</td>\n",
                            "      <td>1998</td>\n",
                            "      <td>1999</td>\n",
                            "      <td>70304</td>\n",
                            "    </tr>\n",
                            "    <tr>\n",
                            "      <th>12</th>\n",
                            "      <td>1999-2000</td>\n",
                            "      <td>From: Willard McCarty \\nSubject: HAPPY now we ...</td>\n",
                            "      <td>1999</td>\n",
                            "      <td>2000</td>\n",
                            "      <td>72641</td>\n",
                            "    </tr>\n",
                            "    <tr>\n",
                            "      <th>13</th>\n",
                            "      <td>2000-2001</td>\n",
                            "      <td>From: Willard McCarty \\nSubject: HAPPY now we ...</td>\n",
                            "      <td>2000</td>\n",
                            "      <td>2001</td>\n",
                            "      <td>89197</td>\n",
                            "    </tr>\n",
                            "    <tr>\n",
                            "      <th>14</th>\n",
                            "      <td>2001-2002</td>\n",
                            "      <td>From: Willard McCarty \\nSubject: 14\\nDate: Mon...</td>\n",
                            "      <td>2001</td>\n",
                            "      <td>2002</td>\n",
                            "      <td>85729</td>\n",
                            "    </tr>\n",
                            "    <tr>\n",
                            "      <th>15</th>\n",
                            "      <td>2002-2003</td>\n",
                            "      <td>From: NINCH-ANNOUNCE \\nSubject: New Project: \"...</td>\n",
                            "      <td>2002</td>\n",
                            "      <td>2003</td>\n",
                            "      <td>80589</td>\n",
                            "    </tr>\n",
                            "    <tr>\n",
                            "      <th>16</th>\n",
                            "      <td>2003-2004</td>\n",
                            "      <td>From: Willard McCarty \\nSubject: Happy Sweet 1...</td>\n",
                            "      <td>2003</td>\n",
                            "      <td>2004</td>\n",
                            "      <td>95265</td>\n",
                            "    </tr>\n",
                            "    <tr>\n",
                            "      <th>17</th>\n",
                            "      <td>2004-2005</td>\n",
                            "      <td>From: Willard McCarty \\nSubject: happy 17th bi...</td>\n",
                            "      <td>2004</td>\n",
                            "      <td>2005</td>\n",
                            "      <td>55776</td>\n",
                            "    </tr>\n",
                            "    <tr>\n",
                            "      <th>18</th>\n",
                            "      <td>2005-2006</td>\n",
                            "      <td>From: Willard McCarty \\nSubject: Happy 18th bi...</td>\n",
                            "      <td>2005</td>\n",
                            "      <td>2006</td>\n",
                            "      <td>53619</td>\n",
                            "    </tr>\n",
                            "    <tr>\n",
                            "      <th>19</th>\n",
                            "      <td>2006-2007</td>\n",
                            "      <td>From: Willard McCarty \\nSubject: Happy 19th bi...</td>\n",
                            "      <td>2006</td>\n",
                            "      <td>2007</td>\n",
                            "      <td>44493</td>\n",
                            "    </tr>\n",
                            "    <tr>\n",
                            "      <th>20</th>\n",
                            "      <td>2007-2008</td>\n",
                            "      <td>From: Willard McCarty \\nSubject: Humanist's 20...</td>\n",
                            "      <td>2007</td>\n",
                            "      <td>2008</td>\n",
                            "      <td>38994</td>\n",
                            "    </tr>\n",
                            "  </tbody>\n",
                            "</table>\n",
                            "</div>"
                        ]
                    },
                    "metadata": {},
                    "execution_count": 4
                }
            ],
            "metadata": {}
        },
        {
            "cell_type": "code",
            "execution_count": 5,
            "source": [
                "def stem_words(row):\n",
                "    stemmed_words = ''\n",
                "    for token in row.text.split(' '):\n",
                "        stemmed_words += porter.stem(token) + ' '\n",
                "    return stemmed_words\n",
                "#subset_humanist_vols['stemmed_text'] = subset_humanist_vols.apply(stem_words, axis=1)\n",
                "humanist_vols['stemmed_text'] = humanist_vols.apply(stem_words, axis=1)"
            ],
            "outputs": [],
            "metadata": {}
        },
        {
            "cell_type": "code",
            "execution_count": 6,
            "source": [
                "documents = humanist_vols.text.tolist()\n",
                "vectorizer = TfidfVectorizer(max_df=.7, min_df=1, stop_words=stop_words)"
            ],
            "outputs": [],
            "metadata": {}
        },
        {
            "cell_type": "code",
            "execution_count": 7,
            "source": [
                "transformed_documents = vectorizer.fit_transform(documents)\n",
                "transformed_documents_as_array = transformed_documents.toarray()\n",
                "dates = humanist_vols.dates.tolist()\n",
                "tfidf_results = []\n",
                "for counter, doc in enumerate(transformed_documents_as_array):\n",
                "    # construct a dataframe\n",
                "    tf_idf_tuples = list(zip(vectorizer.get_feature_names(), doc))\n",
                "    one_doc_as_df = pd.DataFrame.from_records(tf_idf_tuples, columns=['term', 'score']).sort_values(by='score', ascending=False).reset_index(drop=True)\n",
                "    one_doc_as_df['dates'] = dates[counter]\n",
                "    tfidf_results.append(one_doc_as_df)"
            ],
            "outputs": [
                {
                    "output_type": "stream",
                    "name": "stderr",
                    "text": [
                        "/Library/Frameworks/Python.framework/Versions/3.9/lib/python3.9/site-packages/sklearn/utils/deprecation.py:87: FutureWarning: Function get_feature_names is deprecated; get_feature_names is deprecated in 1.0 and will be removed in 1.2. Please use get_feature_names_out instead.\n",
                        "  warnings.warn(msg, category=FutureWarning)\n"
                    ]
                }
            ],
            "metadata": {}
        },
        {
            "cell_type": "code",
            "execution_count": 39,
            "source": [
                "tfidf_df = pd.concat(tfidf_results)\n",
                "tfidf_df = tfidf_df.sort_values(by=['score'], ascending=False)\n",
                "tfidf_df = tfidf_df[(tfidf_df['term'] != '2002') & (tfidf_df['term'] != '2004') & (tfidf_df['term'] != '2006') & (tfidf_df['term'] != '2007') &(tfidf_df['term'] != '2008')]\n",
                "tfidf_df.head(10)"
            ],
            "outputs": [
                {
                    "output_type": "execute_result",
                    "data": {
                        "text/plain": [
                            "       term     score      dates\n",
                            "0     ninch  0.750434  2000-2001\n",
                            "0  utorepas  0.725871  1987-1988\n",
                            "0     ninch  0.632659  1999-2000\n",
                            "1     ninch  0.588579  2001-2002\n",
                            "0     ninch  0.577211  1998-1999\n",
                            "1     ninch  0.563971  2002-2003\n",
                            "1     amico  0.418245  1999-2000\n",
                            "0     ninch  0.349532  1997-1998\n",
                            "0    gopher  0.347021  1993-1994\n",
                            "0    gopher  0.309322  1994-1995"
                        ],
                        "text/html": [
                            "<div>\n",
                            "<style scoped>\n",
                            "    .dataframe tbody tr th:only-of-type {\n",
                            "        vertical-align: middle;\n",
                            "    }\n",
                            "\n",
                            "    .dataframe tbody tr th {\n",
                            "        vertical-align: top;\n",
                            "    }\n",
                            "\n",
                            "    .dataframe thead th {\n",
                            "        text-align: right;\n",
                            "    }\n",
                            "</style>\n",
                            "<table border=\"1\" class=\"dataframe\">\n",
                            "  <thead>\n",
                            "    <tr style=\"text-align: right;\">\n",
                            "      <th></th>\n",
                            "      <th>term</th>\n",
                            "      <th>score</th>\n",
                            "      <th>dates</th>\n",
                            "    </tr>\n",
                            "  </thead>\n",
                            "  <tbody>\n",
                            "    <tr>\n",
                            "      <th>0</th>\n",
                            "      <td>ninch</td>\n",
                            "      <td>0.750434</td>\n",
                            "      <td>2000-2001</td>\n",
                            "    </tr>\n",
                            "    <tr>\n",
                            "      <th>0</th>\n",
                            "      <td>utorepas</td>\n",
                            "      <td>0.725871</td>\n",
                            "      <td>1987-1988</td>\n",
                            "    </tr>\n",
                            "    <tr>\n",
                            "      <th>0</th>\n",
                            "      <td>ninch</td>\n",
                            "      <td>0.632659</td>\n",
                            "      <td>1999-2000</td>\n",
                            "    </tr>\n",
                            "    <tr>\n",
                            "      <th>1</th>\n",
                            "      <td>ninch</td>\n",
                            "      <td>0.588579</td>\n",
                            "      <td>2001-2002</td>\n",
                            "    </tr>\n",
                            "    <tr>\n",
                            "      <th>0</th>\n",
                            "      <td>ninch</td>\n",
                            "      <td>0.577211</td>\n",
                            "      <td>1998-1999</td>\n",
                            "    </tr>\n",
                            "    <tr>\n",
                            "      <th>1</th>\n",
                            "      <td>ninch</td>\n",
                            "      <td>0.563971</td>\n",
                            "      <td>2002-2003</td>\n",
                            "    </tr>\n",
                            "    <tr>\n",
                            "      <th>1</th>\n",
                            "      <td>amico</td>\n",
                            "      <td>0.418245</td>\n",
                            "      <td>1999-2000</td>\n",
                            "    </tr>\n",
                            "    <tr>\n",
                            "      <th>0</th>\n",
                            "      <td>ninch</td>\n",
                            "      <td>0.349532</td>\n",
                            "      <td>1997-1998</td>\n",
                            "    </tr>\n",
                            "    <tr>\n",
                            "      <th>0</th>\n",
                            "      <td>gopher</td>\n",
                            "      <td>0.347021</td>\n",
                            "      <td>1993-1994</td>\n",
                            "    </tr>\n",
                            "    <tr>\n",
                            "      <th>0</th>\n",
                            "      <td>gopher</td>\n",
                            "      <td>0.309322</td>\n",
                            "      <td>1994-1995</td>\n",
                            "    </tr>\n",
                            "  </tbody>\n",
                            "</table>\n",
                            "</div>"
                        ]
                    },
                    "metadata": {},
                    "execution_count": 39
                }
            ],
            "metadata": {}
        },
        {
            "cell_type": "code",
            "execution_count": 33,
            "source": [
                "a = tfidf_df[0:40].term.unique().tolist()\n",
                "a_10 = a[:10]"
            ],
            "outputs": [],
            "metadata": {}
        },
        {
            "cell_type": "code",
            "execution_count": 34,
            "source": [
                "top_term = tfidf_df[tfidf_df.term.isin(a_10)]"
            ],
            "outputs": [],
            "metadata": {}
        },
        {
            "cell_type": "code",
            "execution_count": 37,
            "source": [
                "# Use Altair to plot this top 10 words for the entire volumn\n",
                "alt.Chart(top_term).mark_bar().encode(\n",
                "    x='term',\n",
                "    y='score',\n",
                "    color=alt.Color('term', scale=alt.Scale(scheme='accent'), sort=alt.Sort()),\n",
                ")"
            ],
            "outputs": [
                {
                    "output_type": "execute_result",
                    "data": {
                        "text/plain": [
                            "<VegaLite 4 object>\n",
                            "\n",
                            "If you see this message, it means the renderer has not been properly enabled\n",
                            "for the frontend that you are using. For more information, see\n",
                            "https://altair-viz.github.io/user_guide/troubleshooting.html\n"
                        ],
                        "application/vnd.vegalite.v4+json": {
                            "config": {
                                "view": {
                                    "continuousWidth": 400,
                                    "continuousHeight": 300
                                }
                            },
                            "data": {
                                "name": "data-01f94ad131a8d222f1af2b4c8feb229d"
                            },
                            "mark": "bar",
                            "encoding": {
                                "color": {
                                    "field": "term",
                                    "scale": {
                                        "scheme": "accent"
                                    },
                                    "sort": {},
                                    "type": "nominal"
                                },
                                "x": {
                                    "field": "term",
                                    "type": "nominal"
                                },
                                "y": {
                                    "field": "score",
                                    "type": "quantitative"
                                }
                            },
                            "$schema": "https://vega.github.io/schema/vega-lite/v4.17.0.json",
                            "datasets": {
                                "data-01f94ad131a8d222f1af2b4c8feb229d": [
                                    {
                                        "term": "ninch",
                                        "score": 0.7504338646557767,
                                        "dates": "2000-2001"
                                    },
                                    {
                                        "term": "utorepas",
                                        "score": 0.7258713086399899,
                                        "dates": "1987-1988"
                                    },
                                    {
                                        "term": "ninch",
                                        "score": 0.6326587361721444,
                                        "dates": "1999-2000"
                                    },
                                    {
                                        "term": "ninch",
                                        "score": 0.5885788963478781,
                                        "dates": "2001-2002"
                                    },
                                    {
                                        "term": "ninch",
                                        "score": 0.5772114887368267,
                                        "dates": "1998-1999"
                                    },
                                    {
                                        "term": "ninch",
                                        "score": 0.5639714392862818,
                                        "dates": "2002-2003"
                                    },
                                    {
                                        "term": "amico",
                                        "score": 0.418244511646741,
                                        "dates": "1999-2000"
                                    },
                                    {
                                        "term": "ninch",
                                        "score": 0.349532290485917,
                                        "dates": "1997-1998"
                                    },
                                    {
                                        "term": "gopher",
                                        "score": 0.3470214940262132,
                                        "dates": "1993-1994"
                                    },
                                    {
                                        "term": "gopher",
                                        "score": 0.3093224427878542,
                                        "dates": "1994-1995"
                                    },
                                    {
                                        "term": "doi",
                                        "score": 0.2861511981072411,
                                        "dates": "2005-2006"
                                    },
                                    {
                                        "term": "xxx",
                                        "score": 0.2818298897885437,
                                        "dates": "1996-1997"
                                    },
                                    {
                                        "term": "elra",
                                        "score": 0.2722339601965497,
                                        "dates": "1997-1998"
                                    },
                                    {
                                        "term": "epas",
                                        "score": 0.2607031281967416,
                                        "dates": "1995-1996"
                                    },
                                    {
                                        "term": "gants",
                                        "score": 0.25760941797674863,
                                        "dates": "1997-1998"
                                    },
                                    {
                                        "term": "ruhc",
                                        "score": 0.25182883514653825,
                                        "dates": "1996-1997"
                                    },
                                    {
                                        "term": "amico",
                                        "score": 0.24814616626998262,
                                        "dates": "2001-2002"
                                    },
                                    {
                                        "term": "gants",
                                        "score": 0.21726813381259666,
                                        "dates": "1998-1999"
                                    },
                                    {
                                        "term": "ninch",
                                        "score": 0.20276792686187925,
                                        "dates": "1996-1997"
                                    },
                                    {
                                        "term": "elra",
                                        "score": 0.1887739222701626,
                                        "dates": "1998-1999"
                                    },
                                    {
                                        "term": "doi",
                                        "score": 0.13840323111598585,
                                        "dates": "2006-2007"
                                    },
                                    {
                                        "term": "elra",
                                        "score": 0.12706179228494316,
                                        "dates": "2001-2002"
                                    },
                                    {
                                        "term": "gants",
                                        "score": 0.12089904219791134,
                                        "dates": "1999-2000"
                                    },
                                    {
                                        "term": "utorepas",
                                        "score": 0.12067579536690383,
                                        "dates": "1988-1989"
                                    },
                                    {
                                        "term": "gopher",
                                        "score": 0.12014811183895853,
                                        "dates": "1995-1996"
                                    },
                                    {
                                        "term": "epas",
                                        "score": 0.11350277560188717,
                                        "dates": "1994-1995"
                                    },
                                    {
                                        "term": "epas",
                                        "score": 0.10723698472815381,
                                        "dates": "1993-1994"
                                    },
                                    {
                                        "term": "amico",
                                        "score": 0.10704002055153942,
                                        "dates": "1997-1998"
                                    },
                                    {
                                        "term": "xxx",
                                        "score": 0.10682231993911954,
                                        "dates": "1997-1998"
                                    },
                                    {
                                        "term": "epas",
                                        "score": 0.10303093244145704,
                                        "dates": "1991-1992"
                                    },
                                    {
                                        "term": "epas",
                                        "score": 0.10138253488730335,
                                        "dates": "1992-1993"
                                    },
                                    {
                                        "term": "amico",
                                        "score": 0.07552644103511351,
                                        "dates": "1998-1999"
                                    },
                                    {
                                        "term": "elra",
                                        "score": 0.06041970769608884,
                                        "dates": "1999-2000"
                                    },
                                    {
                                        "term": "gants",
                                        "score": 0.057500856603441945,
                                        "dates": "2000-2001"
                                    },
                                    {
                                        "term": "gants",
                                        "score": 0.052090034701573716,
                                        "dates": "2001-2002"
                                    },
                                    {
                                        "term": "utorepas",
                                        "score": 0.04768580956552135,
                                        "dates": "1989-1990"
                                    },
                                    {
                                        "term": "gopher",
                                        "score": 0.04733079109723424,
                                        "dates": "1992-1993"
                                    },
                                    {
                                        "term": "ninch",
                                        "score": 0.04583766479520991,
                                        "dates": "2003-2004"
                                    },
                                    {
                                        "term": "doi",
                                        "score": 0.04400250936481482,
                                        "dates": "2003-2004"
                                    },
                                    {
                                        "term": "epas",
                                        "score": 0.043437671999726514,
                                        "dates": "1988-1989"
                                    },
                                    {
                                        "term": "doi",
                                        "score": 0.03278124956699508,
                                        "dates": "2004-2005"
                                    },
                                    {
                                        "term": "gopher",
                                        "score": 0.03210720263413789,
                                        "dates": "1996-1997"
                                    },
                                    {
                                        "term": "ruhc",
                                        "score": 0.02696044029742581,
                                        "dates": "1997-1998"
                                    },
                                    {
                                        "term": "elra",
                                        "score": 0.026368467939082544,
                                        "dates": "2000-2001"
                                    },
                                    {
                                        "term": "amico",
                                        "score": 0.026200341306989765,
                                        "dates": "2002-2003"
                                    },
                                    {
                                        "term": "elra",
                                        "score": 0.025726872863336858,
                                        "dates": "1996-1997"
                                    },
                                    {
                                        "term": "doi",
                                        "score": 0.025074526791998085,
                                        "dates": "1998-1999"
                                    },
                                    {
                                        "term": "epas",
                                        "score": 0.024981723606798116,
                                        "dates": "1990-1991"
                                    },
                                    {
                                        "term": "doi",
                                        "score": 0.023268228105550792,
                                        "dates": "1997-1998"
                                    },
                                    {
                                        "term": "elra",
                                        "score": 0.02067985919779983,
                                        "dates": "2002-2003"
                                    },
                                    {
                                        "term": "xxx",
                                        "score": 0.01659193293194079,
                                        "dates": "1988-1989"
                                    },
                                    {
                                        "term": "epas",
                                        "score": 0.015765720625541168,
                                        "dates": "1989-1990"
                                    },
                                    {
                                        "term": "doi",
                                        "score": 0.015083814956238091,
                                        "dates": "2001-2002"
                                    },
                                    {
                                        "term": "utorepas",
                                        "score": 0.00934517735879385,
                                        "dates": "1990-1991"
                                    },
                                    {
                                        "term": "xxx",
                                        "score": 0.008461134636546375,
                                        "dates": "1995-1996"
                                    },
                                    {
                                        "term": "epas",
                                        "score": 0.008082369250972197,
                                        "dates": "1996-1997"
                                    },
                                    {
                                        "term": "gants",
                                        "score": 0.006788457359968921,
                                        "dates": "1996-1997"
                                    },
                                    {
                                        "term": "gants",
                                        "score": 0.006199366879272047,
                                        "dates": "2005-2006"
                                    },
                                    {
                                        "term": "gopher",
                                        "score": 0.0054324085635573845,
                                        "dates": "2003-2004"
                                    },
                                    {
                                        "term": "epas",
                                        "score": 0.005429527379405488,
                                        "dates": "1987-1988"
                                    },
                                    {
                                        "term": "xxx",
                                        "score": 0.00531833707319867,
                                        "dates": "1993-1994"
                                    },
                                    {
                                        "term": "gants",
                                        "score": 0.004830154197781684,
                                        "dates": "1995-1996"
                                    },
                                    {
                                        "term": "gants",
                                        "score": 0.0046517468674937895,
                                        "dates": "2003-2004"
                                    },
                                    {
                                        "term": "gants",
                                        "score": 0.004158583058658067,
                                        "dates": "2004-2005"
                                    },
                                    {
                                        "term": "xxx",
                                        "score": 0.0040934187718441725,
                                        "dates": "1989-1990"
                                    },
                                    {
                                        "term": "gants",
                                        "score": 0.0032244254702467074,
                                        "dates": "2002-2003"
                                    },
                                    {
                                        "term": "elra",
                                        "score": 0.003013534124414586,
                                        "dates": "2003-2004"
                                    },
                                    {
                                        "term": "xxx",
                                        "score": 0.0028241642929118624,
                                        "dates": "2002-2003"
                                    },
                                    {
                                        "term": "xxx",
                                        "score": 0.002396532369339357,
                                        "dates": "1987-1988"
                                    },
                                    {
                                        "term": "xxx",
                                        "score": 0.002297219179267693,
                                        "dates": "1990-1991"
                                    },
                                    {
                                        "term": "gopher",
                                        "score": 0.002115293464140981,
                                        "dates": "1997-1998"
                                    },
                                    {
                                        "term": "xxx",
                                        "score": 0.0020371566377304197,
                                        "dates": "2000-2001"
                                    },
                                    {
                                        "term": "doi",
                                        "score": 0.0018976836980849952,
                                        "dates": "1994-1995"
                                    },
                                    {
                                        "term": "utorepas",
                                        "score": 0.0018774668849134957,
                                        "dates": "1995-1996"
                                    },
                                    {
                                        "term": "gopher",
                                        "score": 0.0018435481035489767,
                                        "dates": "1988-1989"
                                    },
                                    {
                                        "term": "doi",
                                        "score": 0.001783733479674327,
                                        "dates": "1996-1997"
                                    },
                                    {
                                        "term": "gopher",
                                        "score": 0.0016944985757471177,
                                        "dates": "2002-2003"
                                    },
                                    {
                                        "term": "gopher",
                                        "score": 0.00167003436760284,
                                        "dates": "2007-2008"
                                    },
                                    {
                                        "term": "epas",
                                        "score": 0.0016230930928675805,
                                        "dates": "1998-1999"
                                    },
                                    {
                                        "term": "utorepas",
                                        "score": 0.0015912686536545748,
                                        "dates": "1992-1993"
                                    },
                                    {
                                        "term": "doi",
                                        "score": 0.0015785045593059762,
                                        "dates": "1999-2000"
                                    },
                                    {
                                        "term": "doi",
                                        "score": 0.0014342663968858861,
                                        "dates": "1992-1993"
                                    },
                                    {
                                        "term": "gants",
                                        "score": 0.00132566063123465,
                                        "dates": "2006-2007"
                                    },
                                    {
                                        "term": "utorepas",
                                        "score": 0.0012741113963284732,
                                        "dates": "1991-1992"
                                    },
                                    {
                                        "term": "gants",
                                        "score": 0.001265018879598215,
                                        "dates": "1993-1994"
                                    },
                                    {
                                        "term": "utorepas",
                                        "score": 0.0011734222422265074,
                                        "dates": "1997-1998"
                                    },
                                    {
                                        "term": "xxx",
                                        "score": 0.0011484014075475975,
                                        "dates": "1991-1992"
                                    },
                                    {
                                        "term": "doi",
                                        "score": 0.0011133562450685599,
                                        "dates": "2007-2008"
                                    },
                                    {
                                        "term": "epas",
                                        "score": 0.000958471825873729,
                                        "dates": "1997-1998"
                                    },
                                    {
                                        "term": "amico",
                                        "score": 0.000954500640507099,
                                        "dates": "2000-2001"
                                    },
                                    {
                                        "term": "xxx",
                                        "score": 0.0008955188139999317,
                                        "dates": "1998-1999"
                                    },
                                    {
                                        "term": "utorepas",
                                        "score": 0.000875647937624476,
                                        "dates": "1999-2000"
                                    },
                                    {
                                        "term": "utorepas",
                                        "score": 0.0007533847982595013,
                                        "dates": "2000-2001"
                                    },
                                    {
                                        "term": "epas",
                                        "score": 0.0007152445619276821,
                                        "dates": "1999-2000"
                                    },
                                    {
                                        "term": "gopher",
                                        "score": 0.0006790522125768065,
                                        "dates": "2000-2001"
                                    },
                                    {
                                        "term": "ninch",
                                        "score": 0.000636330172139937,
                                        "dates": "2005-2006"
                                    },
                                    {
                                        "term": "elra",
                                        "score": 0.0006061609263203142,
                                        "dates": "2004-2005"
                                    },
                                    {
                                        "term": "elra",
                                        "score": 0.0006024189677323455,
                                        "dates": "2005-2006"
                                    },
                                    {
                                        "term": "epas",
                                        "score": 0.0005044787454548952,
                                        "dates": "2007-2008"
                                    },
                                    {
                                        "term": "gopher",
                                        "score": 0.0004644403728724357,
                                        "dates": "2006-2007"
                                    },
                                    {
                                        "term": "ruhc",
                                        "score": 0,
                                        "dates": "2001-2002"
                                    },
                                    {
                                        "term": "epas",
                                        "score": 0,
                                        "dates": "2000-2001"
                                    },
                                    {
                                        "term": "xxx",
                                        "score": 0,
                                        "dates": "2001-2002"
                                    },
                                    {
                                        "term": "utorepas",
                                        "score": 0,
                                        "dates": "2001-2002"
                                    },
                                    {
                                        "term": "utorepas",
                                        "score": 0,
                                        "dates": "2002-2003"
                                    },
                                    {
                                        "term": "ruhc",
                                        "score": 0,
                                        "dates": "2002-2003"
                                    },
                                    {
                                        "term": "gopher",
                                        "score": 0,
                                        "dates": "2001-2002"
                                    },
                                    {
                                        "term": "ruhc",
                                        "score": 0,
                                        "dates": "1998-1999"
                                    },
                                    {
                                        "term": "epas",
                                        "score": 0,
                                        "dates": "2001-2002"
                                    },
                                    {
                                        "term": "utorepas",
                                        "score": 0,
                                        "dates": "1998-1999"
                                    },
                                    {
                                        "term": "gopher",
                                        "score": 0,
                                        "dates": "1999-2000"
                                    },
                                    {
                                        "term": "xxx",
                                        "score": 0,
                                        "dates": "1999-2000"
                                    },
                                    {
                                        "term": "ruhc",
                                        "score": 0,
                                        "dates": "1999-2000"
                                    },
                                    {
                                        "term": "doi",
                                        "score": 0,
                                        "dates": "2000-2001"
                                    },
                                    {
                                        "term": "gopher",
                                        "score": 0,
                                        "dates": "1998-1999"
                                    },
                                    {
                                        "term": "ruhc",
                                        "score": 0,
                                        "dates": "2000-2001"
                                    },
                                    {
                                        "term": "ninch",
                                        "score": 0,
                                        "dates": "2006-2007"
                                    },
                                    {
                                        "term": "xxx",
                                        "score": 0,
                                        "dates": "2006-2007"
                                    },
                                    {
                                        "term": "utorepas",
                                        "score": 0,
                                        "dates": "2006-2007"
                                    },
                                    {
                                        "term": "ruhc",
                                        "score": 0,
                                        "dates": "2006-2007"
                                    },
                                    {
                                        "term": "amico",
                                        "score": 0,
                                        "dates": "2005-2006"
                                    },
                                    {
                                        "term": "utorepas",
                                        "score": 0,
                                        "dates": "2005-2006"
                                    },
                                    {
                                        "term": "ruhc",
                                        "score": 0,
                                        "dates": "2005-2006"
                                    },
                                    {
                                        "term": "epas",
                                        "score": 0,
                                        "dates": "2005-2006"
                                    },
                                    {
                                        "term": "gopher",
                                        "score": 0,
                                        "dates": "2005-2006"
                                    },
                                    {
                                        "term": "amico",
                                        "score": 0,
                                        "dates": "2007-2008"
                                    },
                                    {
                                        "term": "ruhc",
                                        "score": 0,
                                        "dates": "2007-2008"
                                    },
                                    {
                                        "term": "elra",
                                        "score": 0,
                                        "dates": "2007-2008"
                                    },
                                    {
                                        "term": "gants",
                                        "score": 0,
                                        "dates": "2007-2008"
                                    },
                                    {
                                        "term": "epas",
                                        "score": 0,
                                        "dates": "2006-2007"
                                    },
                                    {
                                        "term": "elra",
                                        "score": 0,
                                        "dates": "2006-2007"
                                    },
                                    {
                                        "term": "amico",
                                        "score": 0,
                                        "dates": "2006-2007"
                                    },
                                    {
                                        "term": "utorepas",
                                        "score": 0,
                                        "dates": "2007-2008"
                                    },
                                    {
                                        "term": "xxx",
                                        "score": 0,
                                        "dates": "2007-2008"
                                    },
                                    {
                                        "term": "ninch",
                                        "score": 0,
                                        "dates": "2007-2008"
                                    },
                                    {
                                        "term": "amico",
                                        "score": 0,
                                        "dates": "2003-2004"
                                    },
                                    {
                                        "term": "utorepas",
                                        "score": 0,
                                        "dates": "2003-2004"
                                    },
                                    {
                                        "term": "ruhc",
                                        "score": 0,
                                        "dates": "2003-2004"
                                    },
                                    {
                                        "term": "xxx",
                                        "score": 0,
                                        "dates": "2003-2004"
                                    },
                                    {
                                        "term": "epas",
                                        "score": 0,
                                        "dates": "2002-2003"
                                    },
                                    {
                                        "term": "doi",
                                        "score": 0,
                                        "dates": "2002-2003"
                                    },
                                    {
                                        "term": "gopher",
                                        "score": 0,
                                        "dates": "2004-2005"
                                    },
                                    {
                                        "term": "xxx",
                                        "score": 0,
                                        "dates": "2005-2006"
                                    },
                                    {
                                        "term": "epas",
                                        "score": 0,
                                        "dates": "2004-2005"
                                    },
                                    {
                                        "term": "ninch",
                                        "score": 0,
                                        "dates": "2004-2005"
                                    },
                                    {
                                        "term": "epas",
                                        "score": 0,
                                        "dates": "2003-2004"
                                    },
                                    {
                                        "term": "amico",
                                        "score": 0,
                                        "dates": "2004-2005"
                                    },
                                    {
                                        "term": "utorepas",
                                        "score": 0,
                                        "dates": "2004-2005"
                                    },
                                    {
                                        "term": "xxx",
                                        "score": 0,
                                        "dates": "2004-2005"
                                    },
                                    {
                                        "term": "ruhc",
                                        "score": 0,
                                        "dates": "2004-2005"
                                    },
                                    {
                                        "term": "amico",
                                        "score": 0,
                                        "dates": "1990-1991"
                                    },
                                    {
                                        "term": "gopher",
                                        "score": 0,
                                        "dates": "1990-1991"
                                    },
                                    {
                                        "term": "ninch",
                                        "score": 0,
                                        "dates": "1991-1992"
                                    },
                                    {
                                        "term": "doi",
                                        "score": 0,
                                        "dates": "1990-1991"
                                    },
                                    {
                                        "term": "elra",
                                        "score": 0,
                                        "dates": "1990-1991"
                                    },
                                    {
                                        "term": "gants",
                                        "score": 0,
                                        "dates": "1990-1991"
                                    },
                                    {
                                        "term": "elra",
                                        "score": 0,
                                        "dates": "1989-1990"
                                    },
                                    {
                                        "term": "ninch",
                                        "score": 0,
                                        "dates": "1990-1991"
                                    },
                                    {
                                        "term": "gopher",
                                        "score": 0,
                                        "dates": "1989-1990"
                                    },
                                    {
                                        "term": "gants",
                                        "score": 0,
                                        "dates": "1989-1990"
                                    },
                                    {
                                        "term": "doi",
                                        "score": 0,
                                        "dates": "1989-1990"
                                    },
                                    {
                                        "term": "ruhc",
                                        "score": 0,
                                        "dates": "1990-1991"
                                    },
                                    {
                                        "term": "ninch",
                                        "score": 0,
                                        "dates": "1992-1993"
                                    },
                                    {
                                        "term": "elra",
                                        "score": 0,
                                        "dates": "1991-1992"
                                    },
                                    {
                                        "term": "amico",
                                        "score": 0,
                                        "dates": "1992-1993"
                                    },
                                    {
                                        "term": "xxx",
                                        "score": 0,
                                        "dates": "1992-1993"
                                    },
                                    {
                                        "term": "ruhc",
                                        "score": 0,
                                        "dates": "1992-1993"
                                    },
                                    {
                                        "term": "ruhc",
                                        "score": 0,
                                        "dates": "1991-1992"
                                    },
                                    {
                                        "term": "amico",
                                        "score": 0,
                                        "dates": "1991-1992"
                                    },
                                    {
                                        "term": "gopher",
                                        "score": 0,
                                        "dates": "1991-1992"
                                    },
                                    {
                                        "term": "gants",
                                        "score": 0,
                                        "dates": "1991-1992"
                                    },
                                    {
                                        "term": "doi",
                                        "score": 0,
                                        "dates": "1991-1992"
                                    },
                                    {
                                        "term": "elra",
                                        "score": 0,
                                        "dates": "1987-1988"
                                    },
                                    {
                                        "term": "doi",
                                        "score": 0,
                                        "dates": "1987-1988"
                                    },
                                    {
                                        "term": "gants",
                                        "score": 0,
                                        "dates": "1987-1988"
                                    },
                                    {
                                        "term": "gopher",
                                        "score": 0,
                                        "dates": "1987-1988"
                                    },
                                    {
                                        "term": "ninch",
                                        "score": 0,
                                        "dates": "1988-1989"
                                    },
                                    {
                                        "term": "ninch",
                                        "score": 0,
                                        "dates": "1987-1988"
                                    },
                                    {
                                        "term": "amico",
                                        "score": 0,
                                        "dates": "1987-1988"
                                    },
                                    {
                                        "term": "ruhc",
                                        "score": 0,
                                        "dates": "1987-1988"
                                    },
                                    {
                                        "term": "ninch",
                                        "score": 0,
                                        "dates": "1989-1990"
                                    },
                                    {
                                        "term": "elra",
                                        "score": 0,
                                        "dates": "1988-1989"
                                    },
                                    {
                                        "term": "doi",
                                        "score": 0,
                                        "dates": "1988-1989"
                                    },
                                    {
                                        "term": "amico",
                                        "score": 0,
                                        "dates": "1989-1990"
                                    },
                                    {
                                        "term": "ruhc",
                                        "score": 0,
                                        "dates": "1989-1990"
                                    },
                                    {
                                        "term": "amico",
                                        "score": 0,
                                        "dates": "1988-1989"
                                    },
                                    {
                                        "term": "ruhc",
                                        "score": 0,
                                        "dates": "1988-1989"
                                    },
                                    {
                                        "term": "gants",
                                        "score": 0,
                                        "dates": "1988-1989"
                                    },
                                    {
                                        "term": "utorepas",
                                        "score": 0,
                                        "dates": "1996-1997"
                                    },
                                    {
                                        "term": "amico",
                                        "score": 0,
                                        "dates": "1996-1997"
                                    },
                                    {
                                        "term": "amico",
                                        "score": 0,
                                        "dates": "1995-1996"
                                    },
                                    {
                                        "term": "ruhc",
                                        "score": 0,
                                        "dates": "1995-1996"
                                    },
                                    {
                                        "term": "doi",
                                        "score": 0,
                                        "dates": "1995-1996"
                                    },
                                    {
                                        "term": "elra",
                                        "score": 0,
                                        "dates": "1995-1996"
                                    },
                                    {
                                        "term": "amico",
                                        "score": 0,
                                        "dates": "1993-1994"
                                    },
                                    {
                                        "term": "ruhc",
                                        "score": 0,
                                        "dates": "1993-1994"
                                    },
                                    {
                                        "term": "doi",
                                        "score": 0,
                                        "dates": "1993-1994"
                                    },
                                    {
                                        "term": "gants",
                                        "score": 0,
                                        "dates": "1992-1993"
                                    },
                                    {
                                        "term": "ninch",
                                        "score": 0,
                                        "dates": "1993-1994"
                                    },
                                    {
                                        "term": "utorepas",
                                        "score": 0,
                                        "dates": "1993-1994"
                                    },
                                    {
                                        "term": "elra",
                                        "score": 0,
                                        "dates": "1992-1993"
                                    },
                                    {
                                        "term": "elra",
                                        "score": 0,
                                        "dates": "1994-1995"
                                    },
                                    {
                                        "term": "gants",
                                        "score": 0,
                                        "dates": "1994-1995"
                                    },
                                    {
                                        "term": "ninch",
                                        "score": 0,
                                        "dates": "1995-1996"
                                    },
                                    {
                                        "term": "xxx",
                                        "score": 0,
                                        "dates": "1994-1995"
                                    },
                                    {
                                        "term": "utorepas",
                                        "score": 0,
                                        "dates": "1994-1995"
                                    },
                                    {
                                        "term": "elra",
                                        "score": 0,
                                        "dates": "1993-1994"
                                    },
                                    {
                                        "term": "ninch",
                                        "score": 0,
                                        "dates": "1994-1995"
                                    },
                                    {
                                        "term": "amico",
                                        "score": 0,
                                        "dates": "1994-1995"
                                    },
                                    {
                                        "term": "ruhc",
                                        "score": 0,
                                        "dates": "1994-1995"
                                    }
                                ]
                            }
                        }
                    },
                    "metadata": {},
                    "execution_count": 37
                }
            ],
            "metadata": {}
        },
        {
            "cell_type": "code",
            "execution_count": 72,
            "source": [
                "# Remanent of coding\n",
                "'''documents1 = humanist_vols.iloc[0:1].text.tolist()\n",
                "documents2 = humanist_vols.iloc[1:2].text.tolist()\n",
                "documents3 = humanist_vols.iloc[2:3].text.tolist()\n",
                "documents4 = humanist_vols.iloc[3:4].text.tolist()\n",
                "documents5 = humanist_vols.iloc[4:5].text.tolist()\n",
                "documents6 = humanist_vols.iloc[5:6].text.tolist()\n",
                "documents7 = humanist_vols.iloc[6:7].text.tolist()\n",
                "documents8 = humanist_vols.iloc[7:8].text.tolist()\n",
                "documents9 = humanist_vols.iloc[8:9].text.tolist()\n",
                "documents10 = humanist_vols.iloc[9:10].text.tolist()\n",
                "documents11 = humanist_vols.iloc[10:11].text.tolist()\n",
                "documents12 = humanist_vols.iloc[11:12].text.tolist()\n",
                "documents13 = humanist_vols.iloc[12:13].text.tolist()\n",
                "documents14 = humanist_vols.iloc[13:14].text.tolist()\n",
                "documents15 = humanist_vols.iloc[14:15].text.tolist()\n",
                "documents16 = humanist_vols.iloc[15:16].text.tolist()\n",
                "documents17 = humanist_vols.iloc[16:17].text.tolist()\n",
                "documents18 = humanist_vols.iloc[17:18].text.tolist()\n",
                "documents19 = humanist_vols.iloc[18:19].text.tolist()\n",
                "documents20 = humanist_vols.iloc[19:20].text.tolist()\n",
                "document_list = [documents1, documents2, documents3,documents4,documents5,documents6,documents7,documents8,documents9,documents10,documents11,documents12,documents13,documents14,documents15,documents16,documents17,documents18,documents19,documents20]'''"
            ],
            "outputs": [
                {
                    "output_type": "execute_result",
                    "data": {
                        "text/plain": [
                            "'documents1 = humanist_vols.iloc[0:1].text.tolist()\\ndocuments2 = humanist_vols.iloc[1:2].text.tolist()\\ndocuments3 = humanist_vols.iloc[2:3].text.tolist()\\ndocuments4 = humanist_vols.iloc[3:4].text.tolist()\\ndocuments5 = humanist_vols.iloc[4:5].text.tolist()\\ndocuments6 = humanist_vols.iloc[5:6].text.tolist()\\ndocuments7 = humanist_vols.iloc[6:7].text.tolist()\\ndocuments8 = humanist_vols.iloc[7:8].text.tolist()\\ndocuments9 = humanist_vols.iloc[8:9].text.tolist()\\ndocuments10 = humanist_vols.iloc[9:10].text.tolist()\\ndocuments11 = humanist_vols.iloc[10:11].text.tolist()\\ndocuments12 = humanist_vols.iloc[11:12].text.tolist()\\ndocuments13 = humanist_vols.iloc[12:13].text.tolist()\\ndocuments14 = humanist_vols.iloc[13:14].text.tolist()\\ndocuments15 = humanist_vols.iloc[14:15].text.tolist()\\ndocuments16 = humanist_vols.iloc[15:16].text.tolist()\\ndocuments17 = humanist_vols.iloc[16:17].text.tolist()\\ndocuments18 = humanist_vols.iloc[17:18].text.tolist()\\ndocuments19 = humanist_vols.iloc[18:19].text.tolist()\\ndocuments20 = humanist_vols.iloc[19:20].text.tolist()\\ndocument_list = [documents1, documents2, documents3,documents4,documents5,documents6,documents7,documents8,documents9,documents10,documents11,documents12,documents13,documents14,documents15,documents16,documents17,documents18,documents19,documents20]'"
                        ]
                    },
                    "metadata": {},
                    "execution_count": 72
                }
            ],
            "metadata": {}
        },
        {
            "cell_type": "code",
            "execution_count": 73,
            "source": [
                "# Remanent of coding\n",
                "'''for lists in range(document_list):\n",
                "    transformed_documents = vectorizer.fit_transform(lists)\n",
                "    transformed_documents_as_array = transformed_documents.toarray()\n",
                "    dates = humanist_vols.dates.tolist()\n",
                "    tfidf_results = []\n",
                "    for counter, doc in enumerate(transformed_documents_as_array):\n",
                "        # construct a dataframe\n",
                "        tf_idf_tuples = list(zip(vectorizer.get_feature_names(), doc))\n",
                "        one_doc_as_df = pd.DataFrame.from_records(tf_idf_tuples, columns=['term', 'score']).sort_values(by='score', ascending=False).reset_index(drop=True)\n",
                "        one_doc_as_df['dates'] = dates[counter]\n",
                "        tfidf_results.append(one_doc_as_df)'''"
            ],
            "outputs": [
                {
                    "output_type": "execute_result",
                    "data": {
                        "text/plain": [
                            "\"for lists in range(document_list):\\n    transformed_documents = vectorizer.fit_transform(lists)\\n    transformed_documents_as_array = transformed_documents.toarray()\\n    dates = humanist_vols.dates.tolist()\\n    tfidf_results = []\\n    for counter, doc in enumerate(transformed_documents_as_array):\\n        # construct a dataframe\\n        tf_idf_tuples = list(zip(vectorizer.get_feature_names(), doc))\\n        one_doc_as_df = pd.DataFrame.from_records(tf_idf_tuples, columns=['term', 'score']).sort_values(by='score', ascending=False).reset_index(drop=True)\\n        one_doc_as_df['dates'] = dates[counter]\\n        tfidf_results.append(one_doc_as_df)\""
                        ]
                    },
                    "metadata": {},
                    "execution_count": 73
                }
            ],
            "metadata": {}
        },
        {
            "cell_type": "code",
            "execution_count": 74,
            "source": [
                "# Remanent of coding\n",
                "'''bydate = tfidf_df[tfidf_df['dates'] == \"1987-1988\"].term.unique().tolist()\n",
                "bydate_5 = bydate[:5]\n",
                "bydate_5'''"
            ],
            "outputs": [
                {
                    "output_type": "execute_result",
                    "data": {
                        "text/plain": [
                            "'bydate = tfidf_df[tfidf_df[\\'dates\\'] == \"1987-1988\"].term.unique().tolist()\\nbydate_5 = bydate[:5]\\nbydate_5'"
                        ]
                    },
                    "metadata": {},
                    "execution_count": 74
                }
            ],
            "metadata": {}
        },
        {
            "cell_type": "code",
            "execution_count": 75,
            "source": [
                "# Use Altair to plot top TFIDF terms for each volumn\n",
                "alt.Chart(top_term).mark_bar().encode(\n",
                "    x='dates',\n",
                "    y='score',\n",
                "    color=alt.Color('term', scale=alt.Scale(scheme='accent'), sort=alt.Sort()),\n",
                ")"
            ],
            "outputs": [
                {
                    "output_type": "execute_result",
                    "data": {
                        "text/plain": [
                            "<VegaLite 4 object>\n",
                            "\n",
                            "If you see this message, it means the renderer has not been properly enabled\n",
                            "for the frontend that you are using. For more information, see\n",
                            "https://altair-viz.github.io/user_guide/troubleshooting.html\n"
                        ],
                        "application/vnd.vegalite.v4+json": {
                            "config": {
                                "view": {
                                    "continuousWidth": 400,
                                    "continuousHeight": 300
                                }
                            },
                            "data": {
                                "name": "data-01f94ad131a8d222f1af2b4c8feb229d"
                            },
                            "mark": "bar",
                            "encoding": {
                                "color": {
                                    "field": "term",
                                    "scale": {
                                        "scheme": "accent"
                                    },
                                    "sort": {},
                                    "type": "nominal"
                                },
                                "x": {
                                    "field": "dates",
                                    "type": "nominal"
                                },
                                "y": {
                                    "field": "score",
                                    "type": "quantitative"
                                }
                            },
                            "$schema": "https://vega.github.io/schema/vega-lite/v4.17.0.json",
                            "datasets": {
                                "data-01f94ad131a8d222f1af2b4c8feb229d": [
                                    {
                                        "term": "ninch",
                                        "score": 0.7504338646557767,
                                        "dates": "2000-2001"
                                    },
                                    {
                                        "term": "utorepas",
                                        "score": 0.7258713086399899,
                                        "dates": "1987-1988"
                                    },
                                    {
                                        "term": "ninch",
                                        "score": 0.6326587361721444,
                                        "dates": "1999-2000"
                                    },
                                    {
                                        "term": "ninch",
                                        "score": 0.5885788963478781,
                                        "dates": "2001-2002"
                                    },
                                    {
                                        "term": "ninch",
                                        "score": 0.5772114887368267,
                                        "dates": "1998-1999"
                                    },
                                    {
                                        "term": "ninch",
                                        "score": 0.5639714392862818,
                                        "dates": "2002-2003"
                                    },
                                    {
                                        "term": "amico",
                                        "score": 0.418244511646741,
                                        "dates": "1999-2000"
                                    },
                                    {
                                        "term": "ninch",
                                        "score": 0.349532290485917,
                                        "dates": "1997-1998"
                                    },
                                    {
                                        "term": "gopher",
                                        "score": 0.3470214940262132,
                                        "dates": "1993-1994"
                                    },
                                    {
                                        "term": "gopher",
                                        "score": 0.3093224427878542,
                                        "dates": "1994-1995"
                                    },
                                    {
                                        "term": "doi",
                                        "score": 0.2861511981072411,
                                        "dates": "2005-2006"
                                    },
                                    {
                                        "term": "xxx",
                                        "score": 0.2818298897885437,
                                        "dates": "1996-1997"
                                    },
                                    {
                                        "term": "elra",
                                        "score": 0.2722339601965497,
                                        "dates": "1997-1998"
                                    },
                                    {
                                        "term": "epas",
                                        "score": 0.2607031281967416,
                                        "dates": "1995-1996"
                                    },
                                    {
                                        "term": "gants",
                                        "score": 0.25760941797674863,
                                        "dates": "1997-1998"
                                    },
                                    {
                                        "term": "ruhc",
                                        "score": 0.25182883514653825,
                                        "dates": "1996-1997"
                                    },
                                    {
                                        "term": "amico",
                                        "score": 0.24814616626998262,
                                        "dates": "2001-2002"
                                    },
                                    {
                                        "term": "gants",
                                        "score": 0.21726813381259666,
                                        "dates": "1998-1999"
                                    },
                                    {
                                        "term": "ninch",
                                        "score": 0.20276792686187925,
                                        "dates": "1996-1997"
                                    },
                                    {
                                        "term": "elra",
                                        "score": 0.1887739222701626,
                                        "dates": "1998-1999"
                                    },
                                    {
                                        "term": "doi",
                                        "score": 0.13840323111598585,
                                        "dates": "2006-2007"
                                    },
                                    {
                                        "term": "elra",
                                        "score": 0.12706179228494316,
                                        "dates": "2001-2002"
                                    },
                                    {
                                        "term": "gants",
                                        "score": 0.12089904219791134,
                                        "dates": "1999-2000"
                                    },
                                    {
                                        "term": "utorepas",
                                        "score": 0.12067579536690383,
                                        "dates": "1988-1989"
                                    },
                                    {
                                        "term": "gopher",
                                        "score": 0.12014811183895853,
                                        "dates": "1995-1996"
                                    },
                                    {
                                        "term": "epas",
                                        "score": 0.11350277560188717,
                                        "dates": "1994-1995"
                                    },
                                    {
                                        "term": "epas",
                                        "score": 0.10723698472815381,
                                        "dates": "1993-1994"
                                    },
                                    {
                                        "term": "amico",
                                        "score": 0.10704002055153942,
                                        "dates": "1997-1998"
                                    },
                                    {
                                        "term": "xxx",
                                        "score": 0.10682231993911954,
                                        "dates": "1997-1998"
                                    },
                                    {
                                        "term": "epas",
                                        "score": 0.10303093244145704,
                                        "dates": "1991-1992"
                                    },
                                    {
                                        "term": "epas",
                                        "score": 0.10138253488730335,
                                        "dates": "1992-1993"
                                    },
                                    {
                                        "term": "amico",
                                        "score": 0.07552644103511351,
                                        "dates": "1998-1999"
                                    },
                                    {
                                        "term": "elra",
                                        "score": 0.06041970769608884,
                                        "dates": "1999-2000"
                                    },
                                    {
                                        "term": "gants",
                                        "score": 0.057500856603441945,
                                        "dates": "2000-2001"
                                    },
                                    {
                                        "term": "gants",
                                        "score": 0.052090034701573716,
                                        "dates": "2001-2002"
                                    },
                                    {
                                        "term": "utorepas",
                                        "score": 0.04768580956552135,
                                        "dates": "1989-1990"
                                    },
                                    {
                                        "term": "gopher",
                                        "score": 0.04733079109723424,
                                        "dates": "1992-1993"
                                    },
                                    {
                                        "term": "ninch",
                                        "score": 0.04583766479520991,
                                        "dates": "2003-2004"
                                    },
                                    {
                                        "term": "doi",
                                        "score": 0.04400250936481482,
                                        "dates": "2003-2004"
                                    },
                                    {
                                        "term": "epas",
                                        "score": 0.043437671999726514,
                                        "dates": "1988-1989"
                                    },
                                    {
                                        "term": "doi",
                                        "score": 0.03278124956699508,
                                        "dates": "2004-2005"
                                    },
                                    {
                                        "term": "gopher",
                                        "score": 0.03210720263413789,
                                        "dates": "1996-1997"
                                    },
                                    {
                                        "term": "ruhc",
                                        "score": 0.02696044029742581,
                                        "dates": "1997-1998"
                                    },
                                    {
                                        "term": "elra",
                                        "score": 0.026368467939082544,
                                        "dates": "2000-2001"
                                    },
                                    {
                                        "term": "amico",
                                        "score": 0.026200341306989765,
                                        "dates": "2002-2003"
                                    },
                                    {
                                        "term": "elra",
                                        "score": 0.025726872863336858,
                                        "dates": "1996-1997"
                                    },
                                    {
                                        "term": "doi",
                                        "score": 0.025074526791998085,
                                        "dates": "1998-1999"
                                    },
                                    {
                                        "term": "epas",
                                        "score": 0.024981723606798116,
                                        "dates": "1990-1991"
                                    },
                                    {
                                        "term": "doi",
                                        "score": 0.023268228105550792,
                                        "dates": "1997-1998"
                                    },
                                    {
                                        "term": "elra",
                                        "score": 0.02067985919779983,
                                        "dates": "2002-2003"
                                    },
                                    {
                                        "term": "xxx",
                                        "score": 0.01659193293194079,
                                        "dates": "1988-1989"
                                    },
                                    {
                                        "term": "epas",
                                        "score": 0.015765720625541168,
                                        "dates": "1989-1990"
                                    },
                                    {
                                        "term": "doi",
                                        "score": 0.015083814956238091,
                                        "dates": "2001-2002"
                                    },
                                    {
                                        "term": "utorepas",
                                        "score": 0.00934517735879385,
                                        "dates": "1990-1991"
                                    },
                                    {
                                        "term": "xxx",
                                        "score": 0.008461134636546375,
                                        "dates": "1995-1996"
                                    },
                                    {
                                        "term": "epas",
                                        "score": 0.008082369250972197,
                                        "dates": "1996-1997"
                                    },
                                    {
                                        "term": "gants",
                                        "score": 0.006788457359968921,
                                        "dates": "1996-1997"
                                    },
                                    {
                                        "term": "gants",
                                        "score": 0.006199366879272047,
                                        "dates": "2005-2006"
                                    },
                                    {
                                        "term": "gopher",
                                        "score": 0.0054324085635573845,
                                        "dates": "2003-2004"
                                    },
                                    {
                                        "term": "epas",
                                        "score": 0.005429527379405488,
                                        "dates": "1987-1988"
                                    },
                                    {
                                        "term": "xxx",
                                        "score": 0.00531833707319867,
                                        "dates": "1993-1994"
                                    },
                                    {
                                        "term": "gants",
                                        "score": 0.004830154197781684,
                                        "dates": "1995-1996"
                                    },
                                    {
                                        "term": "gants",
                                        "score": 0.0046517468674937895,
                                        "dates": "2003-2004"
                                    },
                                    {
                                        "term": "gants",
                                        "score": 0.004158583058658067,
                                        "dates": "2004-2005"
                                    },
                                    {
                                        "term": "xxx",
                                        "score": 0.0040934187718441725,
                                        "dates": "1989-1990"
                                    },
                                    {
                                        "term": "gants",
                                        "score": 0.0032244254702467074,
                                        "dates": "2002-2003"
                                    },
                                    {
                                        "term": "elra",
                                        "score": 0.003013534124414586,
                                        "dates": "2003-2004"
                                    },
                                    {
                                        "term": "xxx",
                                        "score": 0.0028241642929118624,
                                        "dates": "2002-2003"
                                    },
                                    {
                                        "term": "xxx",
                                        "score": 0.002396532369339357,
                                        "dates": "1987-1988"
                                    },
                                    {
                                        "term": "xxx",
                                        "score": 0.002297219179267693,
                                        "dates": "1990-1991"
                                    },
                                    {
                                        "term": "gopher",
                                        "score": 0.002115293464140981,
                                        "dates": "1997-1998"
                                    },
                                    {
                                        "term": "xxx",
                                        "score": 0.0020371566377304197,
                                        "dates": "2000-2001"
                                    },
                                    {
                                        "term": "doi",
                                        "score": 0.0018976836980849952,
                                        "dates": "1994-1995"
                                    },
                                    {
                                        "term": "utorepas",
                                        "score": 0.0018774668849134957,
                                        "dates": "1995-1996"
                                    },
                                    {
                                        "term": "gopher",
                                        "score": 0.0018435481035489767,
                                        "dates": "1988-1989"
                                    },
                                    {
                                        "term": "doi",
                                        "score": 0.001783733479674327,
                                        "dates": "1996-1997"
                                    },
                                    {
                                        "term": "gopher",
                                        "score": 0.0016944985757471177,
                                        "dates": "2002-2003"
                                    },
                                    {
                                        "term": "gopher",
                                        "score": 0.00167003436760284,
                                        "dates": "2007-2008"
                                    },
                                    {
                                        "term": "epas",
                                        "score": 0.0016230930928675805,
                                        "dates": "1998-1999"
                                    },
                                    {
                                        "term": "utorepas",
                                        "score": 0.0015912686536545748,
                                        "dates": "1992-1993"
                                    },
                                    {
                                        "term": "doi",
                                        "score": 0.0015785045593059762,
                                        "dates": "1999-2000"
                                    },
                                    {
                                        "term": "doi",
                                        "score": 0.0014342663968858861,
                                        "dates": "1992-1993"
                                    },
                                    {
                                        "term": "gants",
                                        "score": 0.00132566063123465,
                                        "dates": "2006-2007"
                                    },
                                    {
                                        "term": "utorepas",
                                        "score": 0.0012741113963284732,
                                        "dates": "1991-1992"
                                    },
                                    {
                                        "term": "gants",
                                        "score": 0.001265018879598215,
                                        "dates": "1993-1994"
                                    },
                                    {
                                        "term": "utorepas",
                                        "score": 0.0011734222422265074,
                                        "dates": "1997-1998"
                                    },
                                    {
                                        "term": "xxx",
                                        "score": 0.0011484014075475975,
                                        "dates": "1991-1992"
                                    },
                                    {
                                        "term": "doi",
                                        "score": 0.0011133562450685599,
                                        "dates": "2007-2008"
                                    },
                                    {
                                        "term": "epas",
                                        "score": 0.000958471825873729,
                                        "dates": "1997-1998"
                                    },
                                    {
                                        "term": "amico",
                                        "score": 0.000954500640507099,
                                        "dates": "2000-2001"
                                    },
                                    {
                                        "term": "xxx",
                                        "score": 0.0008955188139999317,
                                        "dates": "1998-1999"
                                    },
                                    {
                                        "term": "utorepas",
                                        "score": 0.000875647937624476,
                                        "dates": "1999-2000"
                                    },
                                    {
                                        "term": "utorepas",
                                        "score": 0.0007533847982595013,
                                        "dates": "2000-2001"
                                    },
                                    {
                                        "term": "epas",
                                        "score": 0.0007152445619276821,
                                        "dates": "1999-2000"
                                    },
                                    {
                                        "term": "gopher",
                                        "score": 0.0006790522125768065,
                                        "dates": "2000-2001"
                                    },
                                    {
                                        "term": "ninch",
                                        "score": 0.000636330172139937,
                                        "dates": "2005-2006"
                                    },
                                    {
                                        "term": "elra",
                                        "score": 0.0006061609263203142,
                                        "dates": "2004-2005"
                                    },
                                    {
                                        "term": "elra",
                                        "score": 0.0006024189677323455,
                                        "dates": "2005-2006"
                                    },
                                    {
                                        "term": "epas",
                                        "score": 0.0005044787454548952,
                                        "dates": "2007-2008"
                                    },
                                    {
                                        "term": "gopher",
                                        "score": 0.0004644403728724357,
                                        "dates": "2006-2007"
                                    },
                                    {
                                        "term": "ruhc",
                                        "score": 0,
                                        "dates": "2001-2002"
                                    },
                                    {
                                        "term": "epas",
                                        "score": 0,
                                        "dates": "2000-2001"
                                    },
                                    {
                                        "term": "xxx",
                                        "score": 0,
                                        "dates": "2001-2002"
                                    },
                                    {
                                        "term": "utorepas",
                                        "score": 0,
                                        "dates": "2001-2002"
                                    },
                                    {
                                        "term": "utorepas",
                                        "score": 0,
                                        "dates": "2002-2003"
                                    },
                                    {
                                        "term": "ruhc",
                                        "score": 0,
                                        "dates": "2002-2003"
                                    },
                                    {
                                        "term": "gopher",
                                        "score": 0,
                                        "dates": "2001-2002"
                                    },
                                    {
                                        "term": "ruhc",
                                        "score": 0,
                                        "dates": "1998-1999"
                                    },
                                    {
                                        "term": "epas",
                                        "score": 0,
                                        "dates": "2001-2002"
                                    },
                                    {
                                        "term": "utorepas",
                                        "score": 0,
                                        "dates": "1998-1999"
                                    },
                                    {
                                        "term": "gopher",
                                        "score": 0,
                                        "dates": "1999-2000"
                                    },
                                    {
                                        "term": "xxx",
                                        "score": 0,
                                        "dates": "1999-2000"
                                    },
                                    {
                                        "term": "ruhc",
                                        "score": 0,
                                        "dates": "1999-2000"
                                    },
                                    {
                                        "term": "doi",
                                        "score": 0,
                                        "dates": "2000-2001"
                                    },
                                    {
                                        "term": "gopher",
                                        "score": 0,
                                        "dates": "1998-1999"
                                    },
                                    {
                                        "term": "ruhc",
                                        "score": 0,
                                        "dates": "2000-2001"
                                    },
                                    {
                                        "term": "ninch",
                                        "score": 0,
                                        "dates": "2006-2007"
                                    },
                                    {
                                        "term": "xxx",
                                        "score": 0,
                                        "dates": "2006-2007"
                                    },
                                    {
                                        "term": "utorepas",
                                        "score": 0,
                                        "dates": "2006-2007"
                                    },
                                    {
                                        "term": "ruhc",
                                        "score": 0,
                                        "dates": "2006-2007"
                                    },
                                    {
                                        "term": "amico",
                                        "score": 0,
                                        "dates": "2005-2006"
                                    },
                                    {
                                        "term": "utorepas",
                                        "score": 0,
                                        "dates": "2005-2006"
                                    },
                                    {
                                        "term": "ruhc",
                                        "score": 0,
                                        "dates": "2005-2006"
                                    },
                                    {
                                        "term": "epas",
                                        "score": 0,
                                        "dates": "2005-2006"
                                    },
                                    {
                                        "term": "gopher",
                                        "score": 0,
                                        "dates": "2005-2006"
                                    },
                                    {
                                        "term": "amico",
                                        "score": 0,
                                        "dates": "2007-2008"
                                    },
                                    {
                                        "term": "ruhc",
                                        "score": 0,
                                        "dates": "2007-2008"
                                    },
                                    {
                                        "term": "elra",
                                        "score": 0,
                                        "dates": "2007-2008"
                                    },
                                    {
                                        "term": "gants",
                                        "score": 0,
                                        "dates": "2007-2008"
                                    },
                                    {
                                        "term": "epas",
                                        "score": 0,
                                        "dates": "2006-2007"
                                    },
                                    {
                                        "term": "elra",
                                        "score": 0,
                                        "dates": "2006-2007"
                                    },
                                    {
                                        "term": "amico",
                                        "score": 0,
                                        "dates": "2006-2007"
                                    },
                                    {
                                        "term": "utorepas",
                                        "score": 0,
                                        "dates": "2007-2008"
                                    },
                                    {
                                        "term": "xxx",
                                        "score": 0,
                                        "dates": "2007-2008"
                                    },
                                    {
                                        "term": "ninch",
                                        "score": 0,
                                        "dates": "2007-2008"
                                    },
                                    {
                                        "term": "amico",
                                        "score": 0,
                                        "dates": "2003-2004"
                                    },
                                    {
                                        "term": "utorepas",
                                        "score": 0,
                                        "dates": "2003-2004"
                                    },
                                    {
                                        "term": "ruhc",
                                        "score": 0,
                                        "dates": "2003-2004"
                                    },
                                    {
                                        "term": "xxx",
                                        "score": 0,
                                        "dates": "2003-2004"
                                    },
                                    {
                                        "term": "epas",
                                        "score": 0,
                                        "dates": "2002-2003"
                                    },
                                    {
                                        "term": "doi",
                                        "score": 0,
                                        "dates": "2002-2003"
                                    },
                                    {
                                        "term": "gopher",
                                        "score": 0,
                                        "dates": "2004-2005"
                                    },
                                    {
                                        "term": "xxx",
                                        "score": 0,
                                        "dates": "2005-2006"
                                    },
                                    {
                                        "term": "epas",
                                        "score": 0,
                                        "dates": "2004-2005"
                                    },
                                    {
                                        "term": "ninch",
                                        "score": 0,
                                        "dates": "2004-2005"
                                    },
                                    {
                                        "term": "epas",
                                        "score": 0,
                                        "dates": "2003-2004"
                                    },
                                    {
                                        "term": "amico",
                                        "score": 0,
                                        "dates": "2004-2005"
                                    },
                                    {
                                        "term": "utorepas",
                                        "score": 0,
                                        "dates": "2004-2005"
                                    },
                                    {
                                        "term": "xxx",
                                        "score": 0,
                                        "dates": "2004-2005"
                                    },
                                    {
                                        "term": "ruhc",
                                        "score": 0,
                                        "dates": "2004-2005"
                                    },
                                    {
                                        "term": "amico",
                                        "score": 0,
                                        "dates": "1990-1991"
                                    },
                                    {
                                        "term": "gopher",
                                        "score": 0,
                                        "dates": "1990-1991"
                                    },
                                    {
                                        "term": "ninch",
                                        "score": 0,
                                        "dates": "1991-1992"
                                    },
                                    {
                                        "term": "doi",
                                        "score": 0,
                                        "dates": "1990-1991"
                                    },
                                    {
                                        "term": "elra",
                                        "score": 0,
                                        "dates": "1990-1991"
                                    },
                                    {
                                        "term": "gants",
                                        "score": 0,
                                        "dates": "1990-1991"
                                    },
                                    {
                                        "term": "elra",
                                        "score": 0,
                                        "dates": "1989-1990"
                                    },
                                    {
                                        "term": "ninch",
                                        "score": 0,
                                        "dates": "1990-1991"
                                    },
                                    {
                                        "term": "gopher",
                                        "score": 0,
                                        "dates": "1989-1990"
                                    },
                                    {
                                        "term": "gants",
                                        "score": 0,
                                        "dates": "1989-1990"
                                    },
                                    {
                                        "term": "doi",
                                        "score": 0,
                                        "dates": "1989-1990"
                                    },
                                    {
                                        "term": "ruhc",
                                        "score": 0,
                                        "dates": "1990-1991"
                                    },
                                    {
                                        "term": "ninch",
                                        "score": 0,
                                        "dates": "1992-1993"
                                    },
                                    {
                                        "term": "elra",
                                        "score": 0,
                                        "dates": "1991-1992"
                                    },
                                    {
                                        "term": "amico",
                                        "score": 0,
                                        "dates": "1992-1993"
                                    },
                                    {
                                        "term": "xxx",
                                        "score": 0,
                                        "dates": "1992-1993"
                                    },
                                    {
                                        "term": "ruhc",
                                        "score": 0,
                                        "dates": "1992-1993"
                                    },
                                    {
                                        "term": "ruhc",
                                        "score": 0,
                                        "dates": "1991-1992"
                                    },
                                    {
                                        "term": "amico",
                                        "score": 0,
                                        "dates": "1991-1992"
                                    },
                                    {
                                        "term": "gopher",
                                        "score": 0,
                                        "dates": "1991-1992"
                                    },
                                    {
                                        "term": "gants",
                                        "score": 0,
                                        "dates": "1991-1992"
                                    },
                                    {
                                        "term": "doi",
                                        "score": 0,
                                        "dates": "1991-1992"
                                    },
                                    {
                                        "term": "elra",
                                        "score": 0,
                                        "dates": "1987-1988"
                                    },
                                    {
                                        "term": "doi",
                                        "score": 0,
                                        "dates": "1987-1988"
                                    },
                                    {
                                        "term": "gants",
                                        "score": 0,
                                        "dates": "1987-1988"
                                    },
                                    {
                                        "term": "gopher",
                                        "score": 0,
                                        "dates": "1987-1988"
                                    },
                                    {
                                        "term": "ninch",
                                        "score": 0,
                                        "dates": "1988-1989"
                                    },
                                    {
                                        "term": "ninch",
                                        "score": 0,
                                        "dates": "1987-1988"
                                    },
                                    {
                                        "term": "amico",
                                        "score": 0,
                                        "dates": "1987-1988"
                                    },
                                    {
                                        "term": "ruhc",
                                        "score": 0,
                                        "dates": "1987-1988"
                                    },
                                    {
                                        "term": "ninch",
                                        "score": 0,
                                        "dates": "1989-1990"
                                    },
                                    {
                                        "term": "elra",
                                        "score": 0,
                                        "dates": "1988-1989"
                                    },
                                    {
                                        "term": "doi",
                                        "score": 0,
                                        "dates": "1988-1989"
                                    },
                                    {
                                        "term": "amico",
                                        "score": 0,
                                        "dates": "1989-1990"
                                    },
                                    {
                                        "term": "ruhc",
                                        "score": 0,
                                        "dates": "1989-1990"
                                    },
                                    {
                                        "term": "amico",
                                        "score": 0,
                                        "dates": "1988-1989"
                                    },
                                    {
                                        "term": "ruhc",
                                        "score": 0,
                                        "dates": "1988-1989"
                                    },
                                    {
                                        "term": "gants",
                                        "score": 0,
                                        "dates": "1988-1989"
                                    },
                                    {
                                        "term": "utorepas",
                                        "score": 0,
                                        "dates": "1996-1997"
                                    },
                                    {
                                        "term": "amico",
                                        "score": 0,
                                        "dates": "1996-1997"
                                    },
                                    {
                                        "term": "amico",
                                        "score": 0,
                                        "dates": "1995-1996"
                                    },
                                    {
                                        "term": "ruhc",
                                        "score": 0,
                                        "dates": "1995-1996"
                                    },
                                    {
                                        "term": "doi",
                                        "score": 0,
                                        "dates": "1995-1996"
                                    },
                                    {
                                        "term": "elra",
                                        "score": 0,
                                        "dates": "1995-1996"
                                    },
                                    {
                                        "term": "amico",
                                        "score": 0,
                                        "dates": "1993-1994"
                                    },
                                    {
                                        "term": "ruhc",
                                        "score": 0,
                                        "dates": "1993-1994"
                                    },
                                    {
                                        "term": "doi",
                                        "score": 0,
                                        "dates": "1993-1994"
                                    },
                                    {
                                        "term": "gants",
                                        "score": 0,
                                        "dates": "1992-1993"
                                    },
                                    {
                                        "term": "ninch",
                                        "score": 0,
                                        "dates": "1993-1994"
                                    },
                                    {
                                        "term": "utorepas",
                                        "score": 0,
                                        "dates": "1993-1994"
                                    },
                                    {
                                        "term": "elra",
                                        "score": 0,
                                        "dates": "1992-1993"
                                    },
                                    {
                                        "term": "elra",
                                        "score": 0,
                                        "dates": "1994-1995"
                                    },
                                    {
                                        "term": "gants",
                                        "score": 0,
                                        "dates": "1994-1995"
                                    },
                                    {
                                        "term": "ninch",
                                        "score": 0,
                                        "dates": "1995-1996"
                                    },
                                    {
                                        "term": "xxx",
                                        "score": 0,
                                        "dates": "1994-1995"
                                    },
                                    {
                                        "term": "utorepas",
                                        "score": 0,
                                        "dates": "1994-1995"
                                    },
                                    {
                                        "term": "elra",
                                        "score": 0,
                                        "dates": "1993-1994"
                                    },
                                    {
                                        "term": "ninch",
                                        "score": 0,
                                        "dates": "1994-1995"
                                    },
                                    {
                                        "term": "amico",
                                        "score": 0,
                                        "dates": "1994-1995"
                                    },
                                    {
                                        "term": "ruhc",
                                        "score": 0,
                                        "dates": "1994-1995"
                                    }
                                ]
                            }
                        }
                    },
                    "metadata": {},
                    "execution_count": 75
                }
            ],
            "metadata": {}
        },
        {
            "cell_type": "code",
            "execution_count": null,
            "source": [],
            "outputs": [],
            "metadata": {}
        }
    ],
    "metadata": {
        "orig_nbformat": 4,
        "language_info": {
            "name": "python",
            "version": "3.9.6",
            "mimetype": "text/x-python",
            "codemirror_mode": {
                "name": "ipython",
                "version": 3
            },
            "pygments_lexer": "ipython3",
            "nbconvert_exporter": "python",
            "file_extension": ".py"
        },
        "kernelspec": {
            "name": "python3",
            "display_name": "Python 3.9.6 64-bit"
        },
        "interpreter": {
            "hash": "aee8b7b246df8f9039afb4144a1f6fd8d2ca17a180786b69acc140d282b71a49"
        }
    },
    "nbformat": 4,
    "nbformat_minor": 2
}